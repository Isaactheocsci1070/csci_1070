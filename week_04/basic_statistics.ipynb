{
 "cells": [
  {
   "cell_type": "code",
   "execution_count": 1,
   "id": "e7b596ed-fcc2-4f8a-a6d3-f6958d63c8aa",
   "metadata": {},
   "outputs": [],
   "source": [
    "import numpy as np\n",
    "import pandas as pd\n",
    "\n",
    "#modules for statistics\n",
    "import math\n",
    "import statistics\n",
    "from scipy import stats\n",
    "\n"
   ]
  },
  {
   "cell_type": "markdown",
   "id": "23f6a88c-d24b-42ae-b916-c6ab61d25f4e",
   "metadata": {},
   "source": [
    "# Mean, Median, Mode, and Central Tendency \n",
    "\n",
    "mean = average, balance point = sum of all the numbers/total number of values = arithmetic mean\n",
    "\n",
    "median = middle number when all the values are put in order. If there is an odd number of values, the median is one number. If there is an even number of numbers, you take the middle two and average them. Outliers do not impact the median very much. \n",
    "\n",
    "mode = number that occurs the most often\n",
    "\n",
    "Central Tendency = a single value that attempts to describe the whole set of data. This number represents the middle or center of its distribution. \n"
   ]
  },
  {
   "cell_type": "code",
   "execution_count": 3,
   "id": "84fece56-cf5d-4e94-bee9-6745940ae84a",
   "metadata": {},
   "outputs": [
    {
     "data": {
      "text/html": [
       "<div>\n",
       "<style scoped>\n",
       "    .dataframe tbody tr th:only-of-type {\n",
       "        vertical-align: middle;\n",
       "    }\n",
       "\n",
       "    .dataframe tbody tr th {\n",
       "        vertical-align: top;\n",
       "    }\n",
       "\n",
       "    .dataframe thead th {\n",
       "        text-align: right;\n",
       "    }\n",
       "</style>\n",
       "<table border=\"1\" class=\"dataframe\">\n",
       "  <thead>\n",
       "    <tr style=\"text-align: right;\">\n",
       "      <th></th>\n",
       "      <th>id</th>\n",
       "      <th>name</th>\n",
       "      <th>host_id</th>\n",
       "      <th>host_name</th>\n",
       "      <th>neighbourhood_group</th>\n",
       "      <th>neighbourhood</th>\n",
       "      <th>latitude</th>\n",
       "      <th>longitude</th>\n",
       "      <th>room_type</th>\n",
       "      <th>price</th>\n",
       "      <th>minimum_nights</th>\n",
       "      <th>number_of_reviews</th>\n",
       "      <th>last_review</th>\n",
       "      <th>reviews_per_month</th>\n",
       "      <th>calculated_host_listings_count</th>\n",
       "      <th>availability_365</th>\n",
       "    </tr>\n",
       "  </thead>\n",
       "  <tbody>\n",
       "    <tr>\n",
       "      <th>2791</th>\n",
       "      <td>48283996</td>\n",
       "      <td>Magical Island</td>\n",
       "      <td>17994012</td>\n",
       "      <td>Ronald</td>\n",
       "      <td>Belize</td>\n",
       "      <td>Belize Islands</td>\n",
       "      <td>17.945690</td>\n",
       "      <td>-87.944620</td>\n",
       "      <td>Entire home/apt</td>\n",
       "      <td>1054</td>\n",
       "      <td>3</td>\n",
       "      <td>0</td>\n",
       "      <td>NaN</td>\n",
       "      <td>NaN</td>\n",
       "      <td>2</td>\n",
       "      <td>347</td>\n",
       "    </tr>\n",
       "    <tr>\n",
       "      <th>2792</th>\n",
       "      <td>48287613</td>\n",
       "      <td>The Luxury Suite - Corozal, Bz- 3Bdr/2bthr CASA1</td>\n",
       "      <td>375769845</td>\n",
       "      <td>Michael</td>\n",
       "      <td>Corozal</td>\n",
       "      <td>Corozal</td>\n",
       "      <td>18.374630</td>\n",
       "      <td>-88.400190</td>\n",
       "      <td>Entire home/apt</td>\n",
       "      <td>401</td>\n",
       "      <td>3</td>\n",
       "      <td>0</td>\n",
       "      <td>NaN</td>\n",
       "      <td>NaN</td>\n",
       "      <td>2</td>\n",
       "      <td>302</td>\n",
       "    </tr>\n",
       "    <tr>\n",
       "      <th>2793</th>\n",
       "      <td>48296096</td>\n",
       "      <td>Lagoon front apartment w/shared pool -  two mi...</td>\n",
       "      <td>76414486</td>\n",
       "      <td>Vacasa Belize</td>\n",
       "      <td>Belize</td>\n",
       "      <td>Belize Islands</td>\n",
       "      <td>17.934580</td>\n",
       "      <td>-87.955220</td>\n",
       "      <td>Entire home/apt</td>\n",
       "      <td>252</td>\n",
       "      <td>1</td>\n",
       "      <td>0</td>\n",
       "      <td>NaN</td>\n",
       "      <td>NaN</td>\n",
       "      <td>204</td>\n",
       "      <td>364</td>\n",
       "    </tr>\n",
       "    <tr>\n",
       "      <th>2794</th>\n",
       "      <td>48296978</td>\n",
       "      <td>Beachfront Poolside Condo</td>\n",
       "      <td>15308338</td>\n",
       "      <td>Alexandra</td>\n",
       "      <td>Belize</td>\n",
       "      <td>Belize Islands</td>\n",
       "      <td>17.930010</td>\n",
       "      <td>-87.957120</td>\n",
       "      <td>Entire home/apt</td>\n",
       "      <td>242</td>\n",
       "      <td>3</td>\n",
       "      <td>0</td>\n",
       "      <td>NaN</td>\n",
       "      <td>NaN</td>\n",
       "      <td>4</td>\n",
       "      <td>364</td>\n",
       "    </tr>\n",
       "    <tr>\n",
       "      <th>2795</th>\n",
       "      <td>48332221</td>\n",
       "      <td>Standard Room - San Ignacio Resort Hotel</td>\n",
       "      <td>60399527</td>\n",
       "      <td>San Ignacio</td>\n",
       "      <td>Cayo</td>\n",
       "      <td>Cayo</td>\n",
       "      <td>17.154127</td>\n",
       "      <td>-89.069689</td>\n",
       "      <td>Private room</td>\n",
       "      <td>226</td>\n",
       "      <td>1</td>\n",
       "      <td>0</td>\n",
       "      <td>NaN</td>\n",
       "      <td>NaN</td>\n",
       "      <td>5</td>\n",
       "      <td>365</td>\n",
       "    </tr>\n",
       "  </tbody>\n",
       "</table>\n",
       "</div>"
      ],
      "text/plain": [
       "            id                                               name    host_id  \\\n",
       "2791  48283996                                     Magical Island   17994012   \n",
       "2792  48287613   The Luxury Suite - Corozal, Bz- 3Bdr/2bthr CASA1  375769845   \n",
       "2793  48296096  Lagoon front apartment w/shared pool -  two mi...   76414486   \n",
       "2794  48296978                          Beachfront Poolside Condo   15308338   \n",
       "2795  48332221           Standard Room - San Ignacio Resort Hotel   60399527   \n",
       "\n",
       "          host_name neighbourhood_group   neighbourhood   latitude  longitude  \\\n",
       "2791         Ronald              Belize  Belize Islands  17.945690 -87.944620   \n",
       "2792        Michael             Corozal         Corozal  18.374630 -88.400190   \n",
       "2793  Vacasa Belize              Belize  Belize Islands  17.934580 -87.955220   \n",
       "2794      Alexandra              Belize  Belize Islands  17.930010 -87.957120   \n",
       "2795    San Ignacio                Cayo            Cayo  17.154127 -89.069689   \n",
       "\n",
       "            room_type  price  minimum_nights  number_of_reviews last_review  \\\n",
       "2791  Entire home/apt   1054               3                  0         NaN   \n",
       "2792  Entire home/apt    401               3                  0         NaN   \n",
       "2793  Entire home/apt    252               1                  0         NaN   \n",
       "2794  Entire home/apt    242               3                  0         NaN   \n",
       "2795     Private room    226               1                  0         NaN   \n",
       "\n",
       "      reviews_per_month  calculated_host_listings_count  availability_365  \n",
       "2791                NaN                               2               347  \n",
       "2792                NaN                               2               302  \n",
       "2793                NaN                             204               364  \n",
       "2794                NaN                               4               364  \n",
       "2795                NaN                               5               365  "
      ]
     },
     "execution_count": 3,
     "metadata": {},
     "output_type": "execute_result"
    }
   ],
   "source": [
    "belize_listings_path = \"belize_airbnb_listings.csv\"\n",
    "belize_df = pd.read_csv(belize_listings_path)\n",
    "\n",
    "# belize_df.head()\n",
    "belize_df.tail()"
   ]
  },
  {
   "cell_type": "code",
   "execution_count": 4,
   "id": "51c8c308-bcf1-4d0a-9090-a584abe8eb44",
   "metadata": {},
   "outputs": [
    {
     "data": {
      "text/html": [
       "<div>\n",
       "<style scoped>\n",
       "    .dataframe tbody tr th:only-of-type {\n",
       "        vertical-align: middle;\n",
       "    }\n",
       "\n",
       "    .dataframe tbody tr th {\n",
       "        vertical-align: top;\n",
       "    }\n",
       "\n",
       "    .dataframe thead th {\n",
       "        text-align: right;\n",
       "    }\n",
       "</style>\n",
       "<table border=\"1\" class=\"dataframe\">\n",
       "  <thead>\n",
       "    <tr style=\"text-align: right;\">\n",
       "      <th></th>\n",
       "      <th>id</th>\n",
       "      <th>host_id</th>\n",
       "      <th>latitude</th>\n",
       "      <th>longitude</th>\n",
       "      <th>price</th>\n",
       "      <th>minimum_nights</th>\n",
       "      <th>number_of_reviews</th>\n",
       "      <th>reviews_per_month</th>\n",
       "      <th>calculated_host_listings_count</th>\n",
       "      <th>availability_365</th>\n",
       "    </tr>\n",
       "  </thead>\n",
       "  <tbody>\n",
       "    <tr>\n",
       "      <th>count</th>\n",
       "      <td>2.796000e+03</td>\n",
       "      <td>2.796000e+03</td>\n",
       "      <td>2796.000000</td>\n",
       "      <td>2796.000000</td>\n",
       "      <td>2796.000000</td>\n",
       "      <td>2796.000000</td>\n",
       "      <td>2796.000000</td>\n",
       "      <td>1810.000000</td>\n",
       "      <td>2796.000000</td>\n",
       "      <td>2796.000000</td>\n",
       "    </tr>\n",
       "    <tr>\n",
       "      <th>mean</th>\n",
       "      <td>2.792490e+07</td>\n",
       "      <td>1.240278e+08</td>\n",
       "      <td>17.448295</td>\n",
       "      <td>-88.292035</td>\n",
       "      <td>357.102289</td>\n",
       "      <td>2.263948</td>\n",
       "      <td>14.453505</td>\n",
       "      <td>0.538088</td>\n",
       "      <td>22.848355</td>\n",
       "      <td>280.315451</td>\n",
       "    </tr>\n",
       "    <tr>\n",
       "      <th>std</th>\n",
       "      <td>1.288964e+07</td>\n",
       "      <td>1.018001e+08</td>\n",
       "      <td>0.537440</td>\n",
       "      <td>0.383876</td>\n",
       "      <td>563.124825</td>\n",
       "      <td>5.669843</td>\n",
       "      <td>30.327768</td>\n",
       "      <td>0.662154</td>\n",
       "      <td>51.711183</td>\n",
       "      <td>120.617632</td>\n",
       "    </tr>\n",
       "    <tr>\n",
       "      <th>min</th>\n",
       "      <td>3.666600e+04</td>\n",
       "      <td>1.507890e+05</td>\n",
       "      <td>16.079260</td>\n",
       "      <td>-89.150680</td>\n",
       "      <td>20.000000</td>\n",
       "      <td>1.000000</td>\n",
       "      <td>0.000000</td>\n",
       "      <td>0.010000</td>\n",
       "      <td>1.000000</td>\n",
       "      <td>0.000000</td>\n",
       "    </tr>\n",
       "    <tr>\n",
       "      <th>25%</th>\n",
       "      <td>1.870854e+07</td>\n",
       "      <td>4.389292e+07</td>\n",
       "      <td>17.129573</td>\n",
       "      <td>-88.371015</td>\n",
       "      <td>135.000000</td>\n",
       "      <td>1.000000</td>\n",
       "      <td>0.000000</td>\n",
       "      <td>0.110000</td>\n",
       "      <td>2.000000</td>\n",
       "      <td>221.000000</td>\n",
       "    </tr>\n",
       "    <tr>\n",
       "      <th>50%</th>\n",
       "      <td>2.891586e+07</td>\n",
       "      <td>9.171577e+07</td>\n",
       "      <td>17.735145</td>\n",
       "      <td>-88.205560</td>\n",
       "      <td>220.000000</td>\n",
       "      <td>2.000000</td>\n",
       "      <td>2.000000</td>\n",
       "      <td>0.275000</td>\n",
       "      <td>6.000000</td>\n",
       "      <td>349.000000</td>\n",
       "    </tr>\n",
       "    <tr>\n",
       "      <th>75%</th>\n",
       "      <td>3.977962e+07</td>\n",
       "      <td>1.875677e+08</td>\n",
       "      <td>17.913837</td>\n",
       "      <td>-87.973793</td>\n",
       "      <td>394.250000</td>\n",
       "      <td>3.000000</td>\n",
       "      <td>13.000000</td>\n",
       "      <td>0.700000</td>\n",
       "      <td>14.000000</td>\n",
       "      <td>364.000000</td>\n",
       "    </tr>\n",
       "    <tr>\n",
       "      <th>max</th>\n",
       "      <td>4.833222e+07</td>\n",
       "      <td>3.890334e+08</td>\n",
       "      <td>18.468140</td>\n",
       "      <td>-87.593140</td>\n",
       "      <td>11788.000000</td>\n",
       "      <td>180.000000</td>\n",
       "      <td>316.000000</td>\n",
       "      <td>5.920000</td>\n",
       "      <td>204.000000</td>\n",
       "      <td>365.000000</td>\n",
       "    </tr>\n",
       "  </tbody>\n",
       "</table>\n",
       "</div>"
      ],
      "text/plain": [
       "                 id       host_id     latitude    longitude         price  \\\n",
       "count  2.796000e+03  2.796000e+03  2796.000000  2796.000000   2796.000000   \n",
       "mean   2.792490e+07  1.240278e+08    17.448295   -88.292035    357.102289   \n",
       "std    1.288964e+07  1.018001e+08     0.537440     0.383876    563.124825   \n",
       "min    3.666600e+04  1.507890e+05    16.079260   -89.150680     20.000000   \n",
       "25%    1.870854e+07  4.389292e+07    17.129573   -88.371015    135.000000   \n",
       "50%    2.891586e+07  9.171577e+07    17.735145   -88.205560    220.000000   \n",
       "75%    3.977962e+07  1.875677e+08    17.913837   -87.973793    394.250000   \n",
       "max    4.833222e+07  3.890334e+08    18.468140   -87.593140  11788.000000   \n",
       "\n",
       "       minimum_nights  number_of_reviews  reviews_per_month  \\\n",
       "count     2796.000000        2796.000000        1810.000000   \n",
       "mean         2.263948          14.453505           0.538088   \n",
       "std          5.669843          30.327768           0.662154   \n",
       "min          1.000000           0.000000           0.010000   \n",
       "25%          1.000000           0.000000           0.110000   \n",
       "50%          2.000000           2.000000           0.275000   \n",
       "75%          3.000000          13.000000           0.700000   \n",
       "max        180.000000         316.000000           5.920000   \n",
       "\n",
       "       calculated_host_listings_count  availability_365  \n",
       "count                     2796.000000       2796.000000  \n",
       "mean                        22.848355        280.315451  \n",
       "std                         51.711183        120.617632  \n",
       "min                          1.000000          0.000000  \n",
       "25%                          2.000000        221.000000  \n",
       "50%                          6.000000        349.000000  \n",
       "75%                         14.000000        364.000000  \n",
       "max                        204.000000        365.000000  "
      ]
     },
     "execution_count": 4,
     "metadata": {},
     "output_type": "execute_result"
    }
   ],
   "source": [
    "belize_df.describe()"
   ]
  },
  {
   "cell_type": "code",
   "execution_count": 5,
   "id": "72ac8cb4-b5e3-4304-a81c-975f339e1b58",
   "metadata": {},
   "outputs": [
    {
     "data": {
      "text/plain": [
       "price                357.102289\n",
       "minimum_nights         2.263948\n",
       "number_of_reviews     14.453505\n",
       "dtype: float64"
      ]
     },
     "execution_count": 5,
     "metadata": {},
     "output_type": "execute_result"
    }
   ],
   "source": [
    "# get mean of price, minimum_nights, and number_of_reviews\n",
    "belize_df[[\"price\",\"minimum_nights\", \"number_of_reviews\"]].mean()"
   ]
  },
  {
   "cell_type": "code",
   "execution_count": 6,
   "id": "7d7838a7-52e4-433b-8c7d-857e0e89e603",
   "metadata": {},
   "outputs": [
    {
     "data": {
      "text/plain": [
       "price                220.0\n",
       "minimum_nights         2.0\n",
       "number_of_reviews      2.0\n",
       "dtype: float64"
      ]
     },
     "execution_count": 6,
     "metadata": {},
     "output_type": "execute_result"
    }
   ],
   "source": [
    "belize_df[[\"price\",\"minimum_nights\", \"number_of_reviews\"]].median()\n",
    "# what do these medians say about the data?"
   ]
  },
  {
   "cell_type": "code",
   "execution_count": 7,
   "id": "8f94ecc7-299e-4e20-a1c1-2e1611dcf2ad",
   "metadata": {},
   "outputs": [
    {
     "data": {
      "text/html": [
       "<div>\n",
       "<style scoped>\n",
       "    .dataframe tbody tr th:only-of-type {\n",
       "        vertical-align: middle;\n",
       "    }\n",
       "\n",
       "    .dataframe tbody tr th {\n",
       "        vertical-align: top;\n",
       "    }\n",
       "\n",
       "    .dataframe thead th {\n",
       "        text-align: right;\n",
       "    }\n",
       "</style>\n",
       "<table border=\"1\" class=\"dataframe\">\n",
       "  <thead>\n",
       "    <tr style=\"text-align: right;\">\n",
       "      <th></th>\n",
       "      <th>price</th>\n",
       "      <th>minimum_nights</th>\n",
       "      <th>number_of_reviews</th>\n",
       "    </tr>\n",
       "  </thead>\n",
       "  <tbody>\n",
       "    <tr>\n",
       "      <th>0</th>\n",
       "      <td>151</td>\n",
       "      <td>1.0</td>\n",
       "      <td>0.0</td>\n",
       "    </tr>\n",
       "    <tr>\n",
       "      <th>1</th>\n",
       "      <td>252</td>\n",
       "      <td>NaN</td>\n",
       "      <td>NaN</td>\n",
       "    </tr>\n",
       "  </tbody>\n",
       "</table>\n",
       "</div>"
      ],
      "text/plain": [
       "   price  minimum_nights  number_of_reviews\n",
       "0    151             1.0                0.0\n",
       "1    252             NaN                NaN"
      ]
     },
     "execution_count": 7,
     "metadata": {},
     "output_type": "execute_result"
    }
   ],
   "source": [
    "belize_df[[\"price\",\"minimum_nights\", \"number_of_reviews\"]].mode()"
   ]
  },
  {
   "cell_type": "code",
   "execution_count": 8,
   "id": "64e75eb9-23c6-4278-bee7-597acaa97058",
   "metadata": {},
   "outputs": [
    {
     "ename": "ModuleNotFoundError",
     "evalue": "No module named 'matplotlib'",
     "output_type": "error",
     "traceback": [
      "\u001b[0;31m---------------------------------------------------------------------------\u001b[0m",
      "\u001b[0;31mModuleNotFoundError\u001b[0m                       Traceback (most recent call last)",
      "Cell \u001b[0;32mIn[8], line 1\u001b[0m\n\u001b[0;32m----> 1\u001b[0m \u001b[38;5;28;01mimport\u001b[39;00m \u001b[38;5;21;01mmatplotlib\u001b[39;00m\u001b[38;5;21;01m.\u001b[39;00m\u001b[38;5;21;01mpyplot\u001b[39;00m \u001b[38;5;28;01mas\u001b[39;00m \u001b[38;5;21;01mplt\u001b[39;00m\n\u001b[1;32m      2\u001b[0m \u001b[38;5;66;03m# histogram is just looking at frequency, so we dont need a y axis\u001b[39;00m\n\u001b[1;32m      3\u001b[0m n, bins, patches \u001b[38;5;241m=\u001b[39m plt\u001b[38;5;241m.\u001b[39mhist(x\u001b[38;5;241m=\u001b[39mbelize_df[\u001b[38;5;124m'\u001b[39m\u001b[38;5;124mprice\u001b[39m\u001b[38;5;124m'\u001b[39m], bins \u001b[38;5;241m=\u001b[39m \u001b[38;5;124m'\u001b[39m\u001b[38;5;124mauto\u001b[39m\u001b[38;5;124m'\u001b[39m)\n",
      "\u001b[0;31mModuleNotFoundError\u001b[0m: No module named 'matplotlib'"
     ]
    }
   ],
   "source": [
    "import matplotlib.pyplot as plt\n",
    "# histogram is just looking at frequency, so we dont need a y axis\n",
    "n, bins, patches = plt.hist(x=belize_df['price'], bins = 'auto')\n",
    "plt.xlabel('price')\n",
    "plt.ylabel('frequency')"
   ]
  },
  {
   "cell_type": "markdown",
   "id": "7953bcec-4d6c-4474-bb70-2bf030a828be",
   "metadata": {},
   "source": [
    "# Variance \n",
    "\n",
    "Variance measures how dispersed data points are from the mean. Low variance means the data points are tightly clustered around the mean. High variance means the data points are spread out from the mean.\n",
    "\n",
    "Variance is like saying the data points are on average X away from the mean.\n",
    "\n",
    "Variance of 0 means thats all the data is the same.\n",
    "\n",
    "Degrees of freedom = number independent pieces of information"
   ]
  },
  {
   "cell_type": "code",
   "execution_count": 10,
   "id": "67db97d2-dced-4e85-a183-a17df371bfde",
   "metadata": {},
   "outputs": [],
   "source": [
    "def variance(data, ddof=0):\n",
    "    n = len(data)\n",
    "    mean = sum(data)/n\n",
    "    variance = sum((x-mean)**2 for x in data)/(n-ddof)\n",
    "    return variance"
   ]
  },
  {
   "cell_type": "code",
   "execution_count": 11,
   "id": "baf0c7d6-c292-491b-894e-ff8e7b4bbbee",
   "metadata": {},
   "outputs": [
    {
     "data": {
      "text/plain": [
       "316996.15262709244"
      ]
     },
     "execution_count": 11,
     "metadata": {},
     "output_type": "execute_result"
    }
   ],
   "source": [
    "# variance - 1 DOF if a sample but 0 if a population\n",
    "variance(belize_df['price'])"
   ]
  },
  {
   "cell_type": "code",
   "execution_count": 12,
   "id": "406ead21-4dae-4094-aa77-c4ded12cfafd",
   "metadata": {},
   "outputs": [
    {
     "data": {
      "text/plain": [
       "316996.15262709244"
      ]
     },
     "execution_count": 12,
     "metadata": {},
     "output_type": "execute_result"
    }
   ],
   "source": [
    "statistics.pvariance(belize_df[\"price\"])"
   ]
  },
  {
   "cell_type": "code",
   "execution_count": 13,
   "id": "51eb3155-58fb-47a4-ad8b-29aa8b0ae48e",
   "metadata": {},
   "outputs": [
    {
     "data": {
      "text/plain": [
       "317109.568066315"
      ]
     },
     "execution_count": 13,
     "metadata": {},
     "output_type": "execute_result"
    }
   ],
   "source": [
    "# sample variance = 1 DOF\n",
    "# most of what we do in this class will be a sample\n",
    "statistics.variance(belize_df[\"price\"])"
   ]
  },
  {
   "cell_type": "markdown",
   "id": "1b163180-ee7e-485d-bb6b-6f39cd7f6dc8",
   "metadata": {},
   "source": [
    "# Standard Deviation \n",
    "\n",
    "Standard deviation is the square root of variance.\n",
    "\n",
    "Why? Because square dollars dont make sense. Its hard to understand what that means, so we need to use units that make sense to us. We need to get rid of the squared value so we have an intuitive understanding of what we're talking about. \n",
    "\n",
    "Tells you how far, on average, each value lies from the mean. "
   ]
  },
  {
   "cell_type": "code",
   "execution_count": 14,
   "id": "7c23d096-e839-4775-9a14-6fbbaf242760",
   "metadata": {},
   "outputs": [
    {
     "data": {
      "text/plain": [
       "563.0241137172478"
      ]
     },
     "execution_count": 14,
     "metadata": {},
     "output_type": "execute_result"
    }
   ],
   "source": [
    "# population standard deviation\n",
    "statistics.pstdev(belize_df[\"price\"])\n",
    "# $563.02"
   ]
  },
  {
   "cell_type": "code",
   "execution_count": 15,
   "id": "6c70610e-9bde-4974-b337-2a8af94c9f8d",
   "metadata": {},
   "outputs": [
    {
     "data": {
      "text/plain": [
       "563.1248245871558"
      ]
     },
     "execution_count": 15,
     "metadata": {},
     "output_type": "execute_result"
    }
   ],
   "source": [
    "statistics.stdev(belize_df[\"price\"])"
   ]
  },
  {
   "cell_type": "code",
   "execution_count": 17,
   "id": "ca4e6d2d-d4a0-47e1-a64a-176926914d6e",
   "metadata": {},
   "outputs": [
    {
     "data": {
      "text/html": [
       "<div>\n",
       "<style scoped>\n",
       "    .dataframe tbody tr th:only-of-type {\n",
       "        vertical-align: middle;\n",
       "    }\n",
       "\n",
       "    .dataframe tbody tr th {\n",
       "        vertical-align: top;\n",
       "    }\n",
       "\n",
       "    .dataframe thead th {\n",
       "        text-align: right;\n",
       "    }\n",
       "</style>\n",
       "<table border=\"1\" class=\"dataframe\">\n",
       "  <thead>\n",
       "    <tr style=\"text-align: right;\">\n",
       "      <th></th>\n",
       "      <th>price</th>\n",
       "    </tr>\n",
       "  </thead>\n",
       "  <tbody>\n",
       "    <tr>\n",
       "      <th>mean</th>\n",
       "      <td>357.102289</td>\n",
       "    </tr>\n",
       "    <tr>\n",
       "      <th>std</th>\n",
       "      <td>563.124825</td>\n",
       "    </tr>\n",
       "  </tbody>\n",
       "</table>\n",
       "</div>"
      ],
      "text/plain": [
       "           price\n",
       "mean  357.102289\n",
       "std   563.124825"
      ]
     },
     "execution_count": 17,
     "metadata": {},
     "output_type": "execute_result"
    }
   ],
   "source": [
    "# Aggregate Function\n",
    "belize_df[[\"price\"]].agg([\"mean\", \"std\"])"
   ]
  },
  {
   "cell_type": "markdown",
   "id": "c33a716c-fcac-4cf8-948b-09fd24320939",
   "metadata": {},
   "source": [
    "# Covariance and Correlation \n",
    "\n",
    "Covariance is to correlation what variance is to standard deviation.\n",
    "\n",
    "Covariance tells us how much and to what extent two random variables change together. How much will one variable change as another variable changes.\n",
    "\n",
    "Positive = variables change in the same direction\n",
    "\n",
    "negative = variables change in the opposite direction\n",
    "\n",
    "Correlation tells us how strong the relationship is between the variables\n",
    "\n",
    "correlation = (covariance of x and y)/ ((standard deviation of x)(standard deviation of y))"
   ]
  },
  {
   "cell_type": "code",
   "execution_count": 18,
   "id": "f19658ea-f7c5-43b1-89b6-37585a7c14b1",
   "metadata": {},
   "outputs": [
    {
     "data": {
      "text/plain": [
       "array([[   919.77350828,  -2055.7279794 ],\n",
       "       [ -2055.7279794 , 317109.56806632]])"
      ]
     },
     "execution_count": 18,
     "metadata": {},
     "output_type": "execute_result"
    }
   ],
   "source": [
    "np.cov(belize_df[\"number_of_reviews\"], belize_df[\"price\"])"
   ]
  },
  {
   "cell_type": "code",
   "execution_count": 20,
   "id": "d679d3d5-2365-4110-8585-69a328a5d1d9",
   "metadata": {},
   "outputs": [
    {
     "data": {
      "text/plain": [
       "array([[ 1.        , -0.12037063],\n",
       "       [-0.12037063,  1.        ]])"
      ]
     },
     "execution_count": 20,
     "metadata": {},
     "output_type": "execute_result"
    }
   ],
   "source": [
    "np.corrcoef(belize_df[\"number_of_reviews\"],belize_df[\"price\"])"
   ]
  },
  {
   "cell_type": "code",
   "execution_count": null,
   "id": "550c324a-56ab-46d8-81e5-9391b4a198ef",
   "metadata": {},
   "outputs": [],
   "source": []
  }
 ],
 "metadata": {
  "kernelspec": {
   "display_name": "Python 3 (ipykernel)",
   "language": "python",
   "name": "python3"
  },
  "language_info": {
   "codemirror_mode": {
    "name": "ipython",
    "version": 3
   },
   "file_extension": ".py",
   "mimetype": "text/x-python",
   "name": "python",
   "nbconvert_exporter": "python",
   "pygments_lexer": "ipython3",
   "version": "3.12.1"
  }
 },
 "nbformat": 4,
 "nbformat_minor": 5
}
